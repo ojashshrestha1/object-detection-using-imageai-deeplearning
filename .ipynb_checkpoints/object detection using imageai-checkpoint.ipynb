{
 "cells": [
  {
   "cell_type": "code",
   "execution_count": null,
   "id": "64f248cb",
   "metadata": {},
   "outputs": [],
   "source": [
    "import tensorflow as tf\n",
    "print(tf.__version__)"
   ]
  },
  {
   "cell_type": "code",
   "execution_count": null,
   "id": "f42af59e",
   "metadata": {},
   "outputs": [],
   "source": [
    "from imageai.Classification import ImageClassification"
   ]
  },
  {
   "cell_type": "code",
   "execution_count": null,
   "id": "6d57452b",
   "metadata": {},
   "outputs": [],
   "source": [
    "import os\n",
    "from tensorflow import keras\n",
    "import sys\n"
   ]
  },
  {
   "cell_type": "code",
   "execution_count": null,
   "id": "8a2db3d2",
   "metadata": {},
   "outputs": [],
   "source": [
    "executionpath = os.getcwd()\n",
    "print(executionpath)"
   ]
  },
  {
   "cell_type": "code",
   "execution_count": null,
   "id": "aeed15c9",
   "metadata": {},
   "outputs": [],
   "source": [
    "detection = ImageClassification()\n",
    "detection.setModelTypeAsResNet50()\n"
   ]
  },
  {
   "cell_type": "code",
   "execution_count": null,
   "id": "3856d099",
   "metadata": {},
   "outputs": [],
   "source": [
    "\n",
    "detection.setModelPath(executionpath + \"/resnet50_imagenet_tf.2.0.h5\")\n"
   ]
  },
  {
   "cell_type": "code",
   "execution_count": null,
   "id": "5e852eeb",
   "metadata": {},
   "outputs": [],
   "source": [
    "detection.loadModel()"
   ]
  },
  {
   "cell_type": "code",
   "execution_count": null,
   "id": "633ddc33",
   "metadata": {},
   "outputs": [],
   "source": [
    "detections, percentprobabs = detection.classifyImage(\"image.jpg\", result_count=5)"
   ]
  },
  {
   "cell_type": "code",
   "execution_count": null,
   "id": "19370119",
   "metadata": {},
   "outputs": [],
   "source": [
    "for Index in range(len(detections)):\n",
    "    print(detections[Index], \":\", precentprobabs[Index])"
   ]
  },
  {
   "cell_type": "code",
   "execution_count": null,
   "id": "a55041bc",
   "metadata": {},
   "outputs": [],
   "source": []
  }
 ],
 "metadata": {
  "kernelspec": {
   "display_name": "Python 3",
   "language": "python",
   "name": "python3"
  },
  "language_info": {
   "codemirror_mode": {
    "name": "ipython",
    "version": 3
   },
   "file_extension": ".py",
   "mimetype": "text/x-python",
   "name": "python",
   "nbconvert_exporter": "python",
   "pygments_lexer": "ipython3",
   "version": "3.6.13"
  }
 },
 "nbformat": 4,
 "nbformat_minor": 5
}
