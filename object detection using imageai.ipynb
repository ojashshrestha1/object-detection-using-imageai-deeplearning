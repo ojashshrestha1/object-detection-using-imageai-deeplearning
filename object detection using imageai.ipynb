{
 "cells": [
  {
   "cell_type": "code",
   "execution_count": 1,
   "id": "c9d48d21",
   "metadata": {},
   "outputs": [
    {
     "name": "stdout",
     "output_type": "stream",
     "text": [
      "2.4.0\n"
     ]
    }
   ],
   "source": [
    "import tensorflow as tf\n",
    "print(tf.__version__)"
   ]
  },
  {
   "cell_type": "code",
   "execution_count": 2,
   "id": "c910b3bf",
   "metadata": {},
   "outputs": [],
   "source": [
    "from imageai.Classification import ImageClassification"
   ]
  },
  {
   "cell_type": "code",
   "execution_count": 3,
   "id": "fd244910",
   "metadata": {},
   "outputs": [],
   "source": [
    "import os\n",
    "from tensorflow import keras\n",
    "import sys\n"
   ]
  },
  {
   "cell_type": "code",
   "execution_count": 4,
   "id": "6a2d40c8",
   "metadata": {},
   "outputs": [
    {
     "name": "stdout",
     "output_type": "stream",
     "text": [
      "C:\\Users\\FX53V\\Projects\\Object Detection ImageAI\\object-detection-using-imageai-deeplearning\n"
     ]
    }
   ],
   "source": [
    "executionpath = os.getcwd()\n",
    "print(executionpath)"
   ]
  },
  {
   "cell_type": "code",
   "execution_count": 5,
   "id": "439014ec",
   "metadata": {},
   "outputs": [],
   "source": [
    "detection = ImageClassification()\n",
    "detection.setModelTypeAsResNet50()\n"
   ]
  },
  {
   "cell_type": "code",
   "execution_count": 6,
   "id": "2b6f37c9",
   "metadata": {},
   "outputs": [],
   "source": [
    "detection.setModelPath(executionpath + \"/resnet50_imagenet_tf.2.0.h5\")\n"
   ]
  },
  {
   "cell_type": "code",
   "execution_count": 7,
   "id": "b4a03b3b",
   "metadata": {},
   "outputs": [],
   "source": [
    "detection.loadModel()"
   ]
  },
  {
   "cell_type": "code",
   "execution_count": 8,
   "id": "996c7b13",
   "metadata": {},
   "outputs": [],
   "source": [
    "detections, percentprobabs = detection.classifyImage(\"image.jpg\", result_count=5)"
   ]
  },
  {
   "cell_type": "code",
   "execution_count": 9,
   "id": "bafff38f",
   "metadata": {},
   "outputs": [
    {
     "name": "stdout",
     "output_type": "stream",
     "text": [
      "sports_car : 27.191439270973206\n",
      "minivan : 22.657544910907745\n",
      "motor_scooter : 9.382441639900208\n",
      "racer : 8.538762480020523\n",
      "cab : 7.665792107582092\n"
     ]
    }
   ],
   "source": [
    "for Index in range(len(detections)):\n",
    "    print(detections[Index], \":\", percentprobabs[Index])"
   ]
  },
  {
   "cell_type": "code",
   "execution_count": 10,
   "id": "36faebc1",
   "metadata": {},
   "outputs": [],
   "source": [
    "detections, percentprobabs = detection.classifyImage(\"image2.jpg\", result_count=5)"
   ]
  },
  {
   "cell_type": "code",
   "execution_count": 11,
   "id": "8e893b0a",
   "metadata": {},
   "outputs": [
    {
     "name": "stdout",
     "output_type": "stream",
     "text": [
      "racer : 36.665159463882446\n",
      "car_wheel : 28.881531953811646\n",
      "sports_car : 15.814052522182465\n",
      "grille : 5.406012386083603\n",
      "limousine : 3.8823287934064865\n"
     ]
    }
   ],
   "source": [
    "for Index in range(len(detections)):\n",
    "    print(detections[Index], \":\", percentprobabs[Index])"
   ]
  },
  {
   "cell_type": "code",
   "execution_count": 12,
   "id": "ed7f8ddc",
   "metadata": {},
   "outputs": [],
   "source": [
    "detections, percentprobabs = detection.classifyImage(\"image3.jpg\", result_count=5)"
   ]
  },
  {
   "cell_type": "code",
   "execution_count": 13,
   "id": "a1339055",
   "metadata": {},
   "outputs": [
    {
     "name": "stdout",
     "output_type": "stream",
     "text": [
      "crash_helmet : 72.67309427261353\n",
      "mountain_bike : 9.556183218955994\n",
      "goblet : 1.35976979508996\n",
      "car_wheel : 1.3457086868584156\n",
      "vase : 1.3297143392264843\n"
     ]
    }
   ],
   "source": [
    "for Index in range(len(detections)):\n",
    "    print(detections[Index], \":\", percentprobabs[Index])"
   ]
  },
  {
   "cell_type": "code",
   "execution_count": 14,
   "id": "e89d4102",
   "metadata": {},
   "outputs": [],
   "source": [
    "detections, percentprobabs = detection.classifyImage(\"image4.jpg\", result_count=5)"
   ]
  },
  {
   "cell_type": "code",
   "execution_count": 15,
   "id": "1bfa3e42",
   "metadata": {},
   "outputs": [
    {
     "name": "stdout",
     "output_type": "stream",
     "text": [
      "lemon : 34.67143476009369\n",
      "orange : 11.521418392658234\n",
      "matchstick : 7.306443899869919\n",
      "carton : 6.239992007613182\n",
      "abacus : 4.289710521697998\n"
     ]
    }
   ],
   "source": [
    "for Index in range(len(detections)):\n",
    "    print(detections[Index], \":\", percentprobabs[Index])"
   ]
  },
  {
   "cell_type": "code",
   "execution_count": 16,
   "id": "bfd410f7",
   "metadata": {},
   "outputs": [],
   "source": [
    "detections, percentprobabs = detection.classifyImage(\"image5.jpg\", result_count=5)"
   ]
  },
  {
   "cell_type": "code",
   "execution_count": 17,
   "id": "0d8f75b3",
   "metadata": {},
   "outputs": [
    {
     "name": "stdout",
     "output_type": "stream",
     "text": [
      "lemon : 38.6613130569458\n",
      "abacus : 26.17250382900238\n",
      "orange : 10.490574687719345\n",
      "golf_ball : 8.330277353525162\n",
      "ear : 2.5982415303587914\n"
     ]
    }
   ],
   "source": [
    "for Index in range(len(detections)):\n",
    "    print(detections[Index], \":\", percentprobabs[Index])"
   ]
  },
  {
   "cell_type": "code",
   "execution_count": 18,
   "id": "1b6d255a",
   "metadata": {},
   "outputs": [],
   "source": [
    "detections, percentprobabs = detection.classifyImage(\"image6.png\", result_count=5)"
   ]
  },
  {
   "cell_type": "code",
   "execution_count": 19,
   "id": "98d99b67",
   "metadata": {},
   "outputs": [
    {
     "name": "stdout",
     "output_type": "stream",
     "text": [
      "sports_car : 59.86446142196655\n",
      "racer : 22.90377914905548\n",
      "car_wheel : 10.057985037565231\n",
      "convertible : 2.2967111319303513\n",
      "go-kart : 1.2311830185353756\n"
     ]
    }
   ],
   "source": [
    "for Index in range(len(detections)):\n",
    "    print(detections[Index], \":\", percentprobabs[Index])"
   ]
  },
  {
   "cell_type": "code",
   "execution_count": null,
   "id": "4f634b76",
   "metadata": {},
   "outputs": [],
   "source": []
  }
 ],
 "metadata": {
  "kernelspec": {
   "display_name": "Python 3",
   "language": "python",
   "name": "python3"
  },
  "language_info": {
   "codemirror_mode": {
    "name": "ipython",
    "version": 3
   },
   "file_extension": ".py",
   "mimetype": "text/x-python",
   "name": "python",
   "nbconvert_exporter": "python",
   "pygments_lexer": "ipython3",
   "version": "3.6.13"
  }
 },
 "nbformat": 4,
 "nbformat_minor": 5
}
